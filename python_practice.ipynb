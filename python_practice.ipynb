{
 "cells": [
  {
   "cell_type": "code",
   "execution_count": 1,
   "metadata": {},
   "outputs": [
    {
     "name": "stdout",
     "output_type": "stream",
     "text": [
      "hello world\n"
     ]
    }
   ],
   "source": [
    "print(\"hello world\")"
   ]
  },
  {
   "cell_type": "code",
   "execution_count": 3,
   "metadata": {},
   "outputs": [
    {
     "ename": "TypeError",
     "evalue": "unsupported operand type(s) for +: 'set' and 'set'",
     "output_type": "error",
     "traceback": [
      "\u001b[0;31m---------------------------------------------------------------------------\u001b[0m",
      "\u001b[0;31mTypeError\u001b[0m                                 Traceback (most recent call last)",
      "Input \u001b[0;32mIn [3]\u001b[0m, in \u001b[0;36m<module>\u001b[0;34m\u001b[0m\n\u001b[1;32m      2\u001b[0m b\u001b[38;5;241m=\u001b[39m\u001b[38;5;241m20\u001b[39m\n\u001b[1;32m      3\u001b[0m c\u001b[38;5;241m=\u001b[39m\u001b[38;5;241m30\u001b[39m\n\u001b[0;32m----> 4\u001b[0m ans\u001b[38;5;241m=\u001b[39m\u001b[43m{\u001b[49m\u001b[38;5;241;43m0\u001b[39;49m\u001b[43m}\u001b[49m\u001b[38;5;241;43m+\u001b[39;49m\u001b[43m{\u001b[49m\u001b[38;5;241;43m1\u001b[39;49m\u001b[43m}\u001b[49m\u001b[38;5;241m+\u001b[39m{\u001b[38;5;241m2\u001b[39m}\u001b[38;5;241m+\u001b[39m\u001b[38;5;124m\"\u001b[39m\u001b[38;5;124myears\u001b[39m\u001b[38;5;124m\"\u001b[39m\u001b[38;5;241m.\u001b[39mformat(a,b,c)\n\u001b[1;32m      5\u001b[0m ans\n",
      "\u001b[0;31mTypeError\u001b[0m: unsupported operand type(s) for +: 'set' and 'set'"
     ]
    }
   ],
   "source": [
    "a=10\n",
    "b=20\n",
    "c=30\n",
    "ans={0}+{1}+{2}+\"years\".format(a,b,c)\n",
    "ans"
   ]
  },
  {
   "cell_type": "code",
   "execution_count": 5,
   "metadata": {},
   "outputs": [
    {
     "data": {
      "text/plain": [
       "'I am 10+20+30'"
      ]
     },
     "execution_count": 5,
     "metadata": {},
     "output_type": "execute_result"
    }
   ],
   "source": [
    "a=10\n",
    "b=20\n",
    "c=30\n",
    "ans=\"I am {0}+{1}+{2}\".format(a,b,c)\n",
    "ans"
   ]
  },
  {
   "cell_type": "code",
   "execution_count": 7,
   "metadata": {},
   "outputs": [
    {
     "name": "stdout",
     "output_type": "stream",
     "text": [
      "Welcome sonu\n"
     ]
    }
   ],
   "source": [
    "name=input(\"Enter your name:\")\n",
    "print(\"Welcome\",name)"
   ]
  },
  {
   "cell_type": "code",
   "execution_count": 8,
   "metadata": {},
   "outputs": [
    {
     "name": "stdout",
     "output_type": "stream",
     "text": [
      "4\n",
      "4$\n"
     ]
    }
   ],
   "source": [
    "name='4%'\n",
    "newName=name.rstrip('%')\n",
    "print(newName)\n",
    "name='$4$'\n",
    "ans=name.lstrip('$')\n",
    "print(ans)"
   ]
  },
  {
   "cell_type": "code",
   "execution_count": 12,
   "metadata": {},
   "outputs": [
    {
     "name": "stdout",
     "output_type": "stream",
     "text": [
      "0 + 1 = 4 is False\n"
     ]
    }
   ],
   "source": [
    "import random\n",
    "number1 = random.randint(0,9)\n",
    "number2 = random.randint(0,9)\n",
    "ans = eval(input(\"what is \"+str(number1)+\" + \"+ str(number2)+\" ?\"))\n",
    "print(number1, \"+\", number2, \"=\", ans, \"is\", number1 + number2 == ans)"
   ]
  },
  {
   "cell_type": "code",
   "execution_count": 2,
   "metadata": {},
   "outputs": [
    {
     "name": "stdout",
     "output_type": "stream",
     "text": [
      "card number 10  is the  10 of spades\n",
      "card number 28  is the  2 of diamonds\n",
      "card number 50  is the  jack of clubs\n",
      "card number 39  is the  ace of clubs\n"
     ]
    }
   ],
   "source": [
    "#list implementation\n",
    "#deck of cards shuffle\n",
    "deck = [x for x in range(52)]\n",
    "\n",
    "suits = [\"spades\", \"hearts\", \"diamonds\", \"clubs\"]\n",
    "ranks = [\"ace\",\"1\",\"2\",\"3\",\"4\",\"5\",\"6\",\"7\",\"8\",\"9\",\"10\",\"jack\",\"queen\",\"king\"]\n",
    "\n",
    "import random\n",
    "random.shuffle(deck)\n",
    "\n",
    "for i in range(4):\n",
    "    suit = suits[deck[i] // 13]\n",
    "    rank = ranks[deck[i] % 13]\n",
    "    print(\"card number\", deck[i],\" is the \",rank,\"of\",suit)"
   ]
  },
  {
   "cell_type": "code",
   "execution_count": 9,
   "metadata": {},
   "outputs": [
    {
     "name": "stdout",
     "output_type": "stream",
     "text": [
      "4\n",
      "8\n"
     ]
    }
   ],
   "source": [
    "#linear search in list\n",
    "def linearSearch(lst, key):\n",
    "    for i in range(len(lst)):\n",
    "        if key == lst[i]:\n",
    "            return i\n",
    "\n",
    "    return -1\n",
    "lst = [1,2,3,4,5,6,7,8,9]\n",
    "j=linearSearch(lst, 5)\n",
    "k=linearSearch(lst, 9)\n",
    "print(j)\n",
    "print(k)"
   ]
  },
  {
   "cell_type": "code",
   "execution_count": 18,
   "metadata": {},
   "outputs": [
    {
     "name": "stdout",
     "output_type": "stream",
     "text": [
      "3\n",
      "-10\n"
     ]
    }
   ],
   "source": [
    "#binary search using list\n",
    "def binarySearch(lst, key):\n",
    "    low=0\n",
    "    high=len(lst)-1\n",
    "\n",
    "    while high >= low:\n",
    "        mid=(low+high) // 2\n",
    "        if key < lst[mid]:\n",
    "            high = mid -1\n",
    "        elif key == lst[mid]:\n",
    "            return mid\n",
    "        else:\n",
    "            low = mid+1\n",
    "    return -low - 1\n",
    "\n",
    "lst = [1,2,3,4,5,6,7,8,9]\n",
    "j=binarySearch(lst, 4)\n",
    "k=binarySearch(lst, 10)\n",
    "print(j)\n",
    "print(k)"
   ]
  },
  {
   "cell_type": "code",
   "execution_count": 19,
   "metadata": {},
   "outputs": [
    {
     "name": "stdout",
     "output_type": "stream",
     "text": [
      "('green', 'red', 'blue', 'yellow')\n",
      "(7, 1, 2, 23, 4, 5)\n",
      "length is 6\n",
      "max is 23\n",
      "('green', 'red', 'blue', 'yellow', 7, 1, 2, 23, 4, 5)\n",
      "(2, 23)\n"
     ]
    }
   ],
   "source": [
    "tuple1 = (\"green\",\"red\",\"blue\",\"yellow\")\n",
    "print(tuple1)\n",
    "\n",
    "tuple2=tuple([7,1,2,23,4,5]) #tuple from a list\n",
    "print(tuple2)\n",
    "\n",
    "print(\"length is\", len(tuple2))\n",
    "print(\"max is\", max(tuple2))\n",
    "\n",
    "tuple3= tuple1 + tuple2\n",
    "print(tuple3)\n",
    "\n",
    "print(tuple2[2 : 4])\n"
   ]
  },
  {
   "cell_type": "code",
   "execution_count": 22,
   "metadata": {},
   "outputs": [
    {
     "name": "stdout",
     "output_type": "stream",
     "text": [
      "{'red', 'green', 'blue'}\n",
      "{'yellow', 'blue', 'red', 'green'}\n",
      "{'red', 'blue'}\n"
     ]
    }
   ],
   "source": [
    "#set demo\n",
    "set1= {\"green\",\"red\",\"blue\",\"red\"}\n",
    "print(set1)\n",
    "\n",
    "set3= set1 | {\"green\", \"yellow\"}\n",
    "print(set3)\n",
    "\n",
    "set3= set1 - {\"green\",\"yellow\"}\n",
    "print(set3)\n",
    "\n"
   ]
  },
  {
   "cell_type": "code",
   "execution_count": 24,
   "metadata": {},
   "outputs": [
    {
     "name": "stdout",
     "output_type": "stream",
     "text": [
      "fever\t1\n",
      "fever\t1\n"
     ]
    },
    {
     "ename": "IndexError",
     "evalue": "list index out of range",
     "output_type": "error",
     "traceback": [
      "\u001b[0;31m---------------------------------------------------------------------------\u001b[0m",
      "\u001b[0;31mIndexError\u001b[0m                                Traceback (most recent call last)",
      "Input \u001b[0;32mIn [24]\u001b[0m, in \u001b[0;36m<module>\u001b[0;34m\u001b[0m\n\u001b[1;32m     29\u001b[0m             line \u001b[38;5;241m=\u001b[39m line\u001b[38;5;241m.\u001b[39mreplace(ch, \u001b[38;5;124m\"\u001b[39m\u001b[38;5;124m \u001b[39m\u001b[38;5;124m\"\u001b[39m)\n\u001b[1;32m     30\u001b[0m     \u001b[38;5;28;01mreturn\u001b[39;00m line\n\u001b[0;32m---> 32\u001b[0m \u001b[43mmain\u001b[49m\u001b[43m(\u001b[49m\u001b[43m)\u001b[49m\n",
      "Input \u001b[0;32mIn [24]\u001b[0m, in \u001b[0;36mmain\u001b[0;34m()\u001b[0m\n\u001b[1;32m     13\u001b[0m items\u001b[38;5;241m.\u001b[39msort()\n\u001b[1;32m     15\u001b[0m \u001b[38;5;28;01mfor\u001b[39;00m i \u001b[38;5;129;01min\u001b[39;00m \u001b[38;5;28mrange\u001b[39m(\u001b[38;5;28mlen\u001b[39m(items) \u001b[38;5;241m-\u001b[39m \u001b[38;5;241m1\u001b[39m, \u001b[38;5;28mlen\u001b[39m(items) \u001b[38;5;241m-\u001b[39m\u001b[38;5;241m11\u001b[39m, \u001b[38;5;241m-\u001b[39m\u001b[38;5;241m1\u001b[39m):\n\u001b[0;32m---> 16\u001b[0m     \u001b[38;5;28mprint\u001b[39m(\u001b[43mitems\u001b[49m\u001b[43m[\u001b[49m\u001b[43mi\u001b[49m\u001b[43m]\u001b[49m[\u001b[38;5;241m1\u001b[39m] \u001b[38;5;241m+\u001b[39m \u001b[38;5;124m\"\u001b[39m\u001b[38;5;130;01m\\t\u001b[39;00m\u001b[38;5;124m\"\u001b[39m \u001b[38;5;241m+\u001b[39m \u001b[38;5;28mstr\u001b[39m(items[i][\u001b[38;5;241m0\u001b[39m]))\n",
      "\u001b[0;31mIndexError\u001b[0m: list index out of range"
     ]
    }
   ],
   "source": [
    "#dictonaries\n",
    "def main():\n",
    "    filename = input(\"enter a filename: \").strip()\n",
    "    infile = open(filename, \"r\")\n",
    "\n",
    "    wordCounts ={}\n",
    "    for line in infile:\n",
    "        processLine(line.lower(), wordCounts)\n",
    "\n",
    "    pairs = list(wordCounts.items())\n",
    "\n",
    "    items = [[x, y] for (y,x) in pairs]\n",
    "    items.sort()\n",
    "\n",
    "    for i in range(len(items) - 1, len(items) -11, -1):\n",
    "        print(items[i][1] + \"\\t\" + str(items[i][0]))\n",
    "\n",
    "def processLine(line, wordCounts):\n",
    "    line = replacePunctutation(line)\n",
    "    words = line.split()\n",
    "    for word in words:\n",
    "        if word in wordCounts:\n",
    "            wordCounts[word] += 1\n",
    "        else:\n",
    "            wordCounts[word] = 1\n",
    "def replacePunctutation(line):\n",
    "    for ch in line:\n",
    "        if ch in \"~@#$%^&*()_+=~<>?/,.;!{}[]|'\\\"\":\n",
    "            line = line.replace(ch, \" \")\n",
    "    return line\n",
    "\n",
    "main()\n"
   ]
  },
  {
   "cell_type": "code",
   "execution_count": 26,
   "metadata": {},
   "outputs": [
    {
     "name": "stdout",
     "output_type": "stream",
     "text": [
      "factorial of 3 is 6\n"
     ]
    }
   ],
   "source": [
    "#factorial\n",
    "def main():\n",
    "    n=eval(input(\"Enter a nonnegative number:\"))\n",
    "    print(\"factorial of\", n,\"is\",factorial(n))\n",
    "\n",
    "def factorial(n):\n",
    "    if n==0:\n",
    "        return 1\n",
    "    else:\n",
    "        return n * factorial(n-1)\n",
    "main()\n"
   ]
  },
  {
   "cell_type": "code",
   "execution_count": 27,
   "metadata": {},
   "outputs": [
    {
     "name": "stdout",
     "output_type": "stream",
     "text": [
      "fibonnaci number at index 6 is 8\n"
     ]
    }
   ],
   "source": [
    "#fibonnaci series\n",
    "def main():\n",
    "    index= eval(input(\"Enter an index for a fibonnaci number: \"))\n",
    "    print(\"fibonnaci number at index\", index, \"is\", fib(index))\n",
    "\n",
    "def fib(index):\n",
    "    if index == 0:\n",
    "        return 0\n",
    "    elif index == 1:\n",
    "        return 1\n",
    "    else:\n",
    "        return fib(index - 1) + fib(index - 2)\n",
    "main()"
   ]
  },
  {
   "cell_type": "code",
   "execution_count": 28,
   "metadata": {},
   "outputs": [
    {
     "name": "stdout",
     "output_type": "stream",
     "text": [
      "the moves are:\n",
      "Move disk 1 from A to C\n",
      "Move disk 2 from A to B\n",
      "Move disk 1 from C to B\n",
      "Move disk 3 from A to C\n",
      "Move disk 1 from B to A\n",
      "Move disk 2 from B to C\n",
      "Move disk 1 from A to C\n",
      "Move disk 4 from A to B\n",
      "Move disk 1 from C to B\n",
      "Move disk 2 from C to A\n",
      "Move disk 1 from B to A\n",
      "Move disk 3 from C to B\n",
      "Move disk 1 from A to C\n",
      "Move disk 2 from A to B\n",
      "Move disk 1 from C to B\n"
     ]
    }
   ],
   "source": [
    "# tower of hanoi\n",
    "def main():\n",
    "    n= eval(input(\"enter number of disks: \"))\n",
    "    print(\"the moves are:\")\n",
    "    moveDisks(n,'A','B','C')\n",
    "\n",
    "def moveDisks(n, fromTower, toTower, auxTower):\n",
    "    if n == 1:\n",
    "        print(\"Move disk\", n,\"from\", fromTower,\"to\", toTower)\n",
    "    else:\n",
    "        moveDisks(n-1, fromTower, auxTower, toTower)\n",
    "        print(\"Move disk\", n,\"from\", fromTower,\"to\", toTower)\n",
    "        moveDisks(n-1, auxTower, toTower, fromTower)\n",
    "main()"
   ]
  }
 ],
 "metadata": {
  "interpreter": {
   "hash": "31f2aee4e71d21fbe5cf8b01ff0e069b9275f58929596ceb00d14d90e3e16cd6"
  },
  "kernelspec": {
   "display_name": "Python 3.8.9 64-bit",
   "language": "python",
   "name": "python3"
  },
  "language_info": {
   "codemirror_mode": {
    "name": "ipython",
    "version": 3
   },
   "file_extension": ".py",
   "mimetype": "text/x-python",
   "name": "python",
   "nbconvert_exporter": "python",
   "pygments_lexer": "ipython3",
   "version": "3.8.9"
  },
  "orig_nbformat": 4
 },
 "nbformat": 4,
 "nbformat_minor": 2
}
